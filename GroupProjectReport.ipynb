{
 "cells": [
  {
   "cell_type": "markdown",
   "id": "dec992c9-7569-459e-ac12-fd5dbfda8869",
   "metadata": {
    "tags": []
   },
   "source": [
    "# World University Rankings 2023 #"
   ]
  },
  {
   "cell_type": "markdown",
   "id": "77cb3772-e2b9-48e1-9cd6-f23685b162eb",
   "metadata": {},
   "source": [
    "## STAT 301 Group Project \n"
   ]
  },
  {
   "cell_type": "code",
   "execution_count": null,
   "id": "96b21336-f5fe-411d-b7cc-70099d4cda43",
   "metadata": {},
   "outputs": [],
   "source": []
  }
 ],
 "metadata": {
  "kernelspec": {
   "display_name": "R",
   "language": "R",
   "name": "ir"
  },
  "language_info": {
   "codemirror_mode": "r",
   "file_extension": ".r",
   "mimetype": "text/x-r-source",
   "name": "R",
   "pygments_lexer": "r",
   "version": "4.2.3"
  }
 },
 "nbformat": 4,
 "nbformat_minor": 5
}
